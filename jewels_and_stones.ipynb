{
  "nbformat": 4,
  "nbformat_minor": 0,
  "metadata": {
    "colab": {
      "provenance": [],
      "authorship_tag": "ABX9TyNFdKEtqpK1VrTLlwdwP3WD",
      "include_colab_link": true
    },
    "kernelspec": {
      "name": "python3",
      "display_name": "Python 3"
    },
    "language_info": {
      "name": "python"
    }
  },
  "cells": [
    {
      "cell_type": "markdown",
      "metadata": {
        "id": "view-in-github",
        "colab_type": "text"
      },
      "source": [
        "<a href=\"https://colab.research.google.com/github/saim-glitch/DSA_in_python/blob/main/jewels_and_stones.ipynb\" target=\"_parent\"><img src=\"https://colab.research.google.com/assets/colab-badge.svg\" alt=\"Open In Colab\"/></a>"
      ]
    },
    {
      "cell_type": "code",
      "execution_count": 3,
      "metadata": {
        "colab": {
          "base_uri": "https://localhost:8080/"
        },
        "id": "F-NaupLcNrCK",
        "outputId": "a9ef0c2e-c214-43dc-be6b-e0d248722bc4"
      },
      "outputs": [
        {
          "output_type": "stream",
          "name": "stdout",
          "text": [
            "3\n"
          ]
        }
      ],
      "source": [
        "def numJewelsInStones(jewels: str, stones: str) -> int:\n",
        "    s = set(jewels)\n",
        "    count = 0\n",
        "    for stone in stones:\n",
        "        if stone in s:\n",
        "            count += 1\n",
        "    return count\n",
        "\n",
        "jewels = \"aA\"\n",
        "stones = \"aAABBBBB\"\n",
        "result = numJewelsInStones(jewels, stones)\n",
        "print(result)"
      ]
    }
  ]
}