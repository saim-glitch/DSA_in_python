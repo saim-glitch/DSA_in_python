{
  "nbformat": 4,
  "nbformat_minor": 0,
  "metadata": {
    "colab": {
      "provenance": [],
      "authorship_tag": "ABX9TyNs34E1E+NVbtwpQ7ChXWIC",
      "include_colab_link": true
    },
    "kernelspec": {
      "name": "python3",
      "display_name": "Python 3"
    },
    "language_info": {
      "name": "python"
    }
  },
  "cells": [
    {
      "cell_type": "markdown",
      "metadata": {
        "id": "view-in-github",
        "colab_type": "text"
      },
      "source": [
        "<a href=\"https://colab.research.google.com/github/saim-glitch/DSA_in_python/blob/main/Merge_two_Sorted_Lists.ipynb\" target=\"_parent\"><img src=\"https://colab.research.google.com/assets/colab-badge.svg\" alt=\"Open In Colab\"/></a>"
      ]
    },
    {
      "cell_type": "code",
      "execution_count": 3,
      "metadata": {
        "id": "pNjFJeI4Ezhf"
      },
      "outputs": [],
      "source": [
        "   from typing import Optional\n",
        "class ListNode:\n",
        "    def __init__(self, val=0, next=None):\n",
        "        self.val = val\n",
        "        self.next = next\n",
        "   def mergeTwoLists(list1,list2):\n",
        "        d=ListNode()\n",
        "        curr=d\n",
        "        while list1 and list2:\n",
        "            if list1.val < list2.val:\n",
        "                curr.next=list1\n",
        "                curr=list1\n",
        "                list1=list1.next\n",
        "            else:\n",
        "                curr.next=list2\n",
        "                curr=list2\n",
        "                list2=list2.next\n",
        "\n",
        "        curr.next=list1 if list1 else list2\n",
        "        return d.next"
      ]
    }
  ]
}