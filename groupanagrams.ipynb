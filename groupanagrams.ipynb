{
  "nbformat": 4,
  "nbformat_minor": 0,
  "metadata": {
    "colab": {
      "provenance": [],
      "authorship_tag": "ABX9TyOkkrZMboDl3iCrEzA+KYm8",
      "include_colab_link": true
    },
    "kernelspec": {
      "name": "python3",
      "display_name": "Python 3"
    },
    "language_info": {
      "name": "python"
    }
  },
  "cells": [
    {
      "cell_type": "markdown",
      "metadata": {
        "id": "view-in-github",
        "colab_type": "text"
      },
      "source": [
        "<a href=\"https://colab.research.google.com/github/saim-glitch/DSA_in_python/blob/main/groupanagrams.ipynb\" target=\"_parent\"><img src=\"https://colab.research.google.com/assets/colab-badge.svg\" alt=\"Open In Colab\"/></a>"
      ]
    },
    {
      "cell_type": "code",
      "execution_count": 2,
      "metadata": {
        "id": "yoGbGM1t3mvf"
      },
      "outputs": [],
      "source": [
        "  from collections import defaultdict\n",
        "  def groupAnagrams(strs):\n",
        "        anagram_dict=defaultdict(list)\n",
        "        for s in strs:\n",
        "            count=[0]*26\n",
        "            for c in s:\n",
        "                count[ord(c)-ord('a')]+=1\n",
        "            key=tuple(count)\n",
        "            anagram_dict[key].append(s)\n",
        "        return list(anagram_dict.values())\n"
      ]
    },
    {
      "cell_type": "code",
      "source": [
        "strs = [\"eat\",\"tea\",\"tan\",\"ate\",\"nat\",\"bat\"]\n",
        "solution=groupAnagrams(strs)\n",
        "print(solution)"
      ],
      "metadata": {
        "colab": {
          "base_uri": "https://localhost:8080/"
        },
        "id": "F94Cfkjw30yy",
        "outputId": "064352c4-0548-4a4c-e4a6-bc5bb5e72bc5"
      },
      "execution_count": 3,
      "outputs": [
        {
          "output_type": "stream",
          "name": "stdout",
          "text": [
            "[['eat', 'tea', 'ate'], ['tan', 'nat'], ['bat']]\n"
          ]
        }
      ]
    }
  ]
}