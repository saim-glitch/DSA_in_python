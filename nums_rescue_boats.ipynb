{
  "nbformat": 4,
  "nbformat_minor": 0,
  "metadata": {
    "colab": {
      "provenance": [],
      "authorship_tag": "ABX9TyP/Fy7tZUP9E9O2/r67sjEN",
      "include_colab_link": true
    },
    "kernelspec": {
      "name": "python3",
      "display_name": "Python 3"
    },
    "language_info": {
      "name": "python"
    }
  },
  "cells": [
    {
      "cell_type": "markdown",
      "metadata": {
        "id": "view-in-github",
        "colab_type": "text"
      },
      "source": [
        "<a href=\"https://colab.research.google.com/github/saim-glitch/DSA_in_python/blob/main/nums_rescue_boats.ipynb\" target=\"_parent\"><img src=\"https://colab.research.google.com/assets/colab-badge.svg\" alt=\"Open In Colab\"/></a>"
      ]
    },
    {
      "cell_type": "code",
      "execution_count": 3,
      "metadata": {
        "colab": {
          "base_uri": "https://localhost:8080/"
        },
        "id": "VgDMzhS_mlnx",
        "outputId": "1480f84d-495f-4e4f-97a5-5face12ba86d"
      },
      "outputs": [
        {
          "output_type": "stream",
          "name": "stdout",
          "text": [
            "4\n"
          ]
        }
      ],
      "source": [
        "def numRescueBoats(people, limit):\n",
        "        people.sort()\n",
        "        i=0\n",
        "        j=len(people)-1\n",
        "        count=0\n",
        "        while i <=j:\n",
        "            if people[i] + people[j] <= limit:\n",
        "                i+=1\n",
        "                j-=1\n",
        "            else:\n",
        "                j-=1\n",
        "\n",
        "            count+=1\n",
        "\n",
        "        return count\n",
        "\n",
        "people=[1,2,8,4,7,2,9]\n",
        "limit=9\n",
        "new=numRescueBoats(people,limit)\n",
        "print(new)\n"
      ]
    }
  ]
}