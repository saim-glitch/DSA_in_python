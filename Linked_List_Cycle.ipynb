{
  "nbformat": 4,
  "nbformat_minor": 0,
  "metadata": {
    "colab": {
      "provenance": [],
      "authorship_tag": "ABX9TyMy3DUADkttV6YhUwku+zRj",
      "include_colab_link": true
    },
    "kernelspec": {
      "name": "python3",
      "display_name": "Python 3"
    },
    "language_info": {
      "name": "python"
    }
  },
  "cells": [
    {
      "cell_type": "markdown",
      "metadata": {
        "id": "view-in-github",
        "colab_type": "text"
      },
      "source": [
        "<a href=\"https://colab.research.google.com/github/saim-glitch/DSA_in_python/blob/main/Linked_List_Cycle.ipynb\" target=\"_parent\"><img src=\"https://colab.research.google.com/assets/colab-badge.svg\" alt=\"Open In Colab\"/></a>"
      ]
    },
    {
      "cell_type": "code",
      "execution_count": 4,
      "metadata": {
        "id": "AO42WHG2MChu"
      },
      "outputs": [],
      "source": [
        " def hasCycle(head):\n",
        "        slow = fast = head\n",
        "        while fast and fast.next:\n",
        "            fast = fast.next.next\n",
        "            slow=slow.next\n",
        "            if slow is fast:\n",
        "               return True\n",
        "        return False"
      ]
    }
  ]
}