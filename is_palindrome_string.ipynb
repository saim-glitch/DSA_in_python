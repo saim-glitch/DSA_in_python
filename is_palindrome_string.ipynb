{
  "nbformat": 4,
  "nbformat_minor": 0,
  "metadata": {
    "colab": {
      "provenance": [],
      "authorship_tag": "ABX9TyNIxf8zJaAci23YepR2zTuA",
      "include_colab_link": true
    },
    "kernelspec": {
      "name": "python3",
      "display_name": "Python 3"
    },
    "language_info": {
      "name": "python"
    }
  },
  "cells": [
    {
      "cell_type": "markdown",
      "metadata": {
        "id": "view-in-github",
        "colab_type": "text"
      },
      "source": [
        "<a href=\"https://colab.research.google.com/github/saim-glitch/DSA_in_python/blob/main/is_palindrome_string.ipynb\" target=\"_parent\"><img src=\"https://colab.research.google.com/assets/colab-badge.svg\" alt=\"Open In Colab\"/></a>"
      ]
    },
    {
      "cell_type": "code",
      "execution_count": 2,
      "metadata": {
        "colab": {
          "base_uri": "https://localhost:8080/"
        },
        "id": "XqVzv6QzVPoU",
        "outputId": "ead6bccd-528c-4811-8591-85e9b1c5353d"
      },
      "outputs": [
        {
          "output_type": "stream",
          "name": "stdout",
          "text": [
            "False\n"
          ]
        }
      ],
      "source": [
        "def is_palindrone(str):\n",
        "  n=len(str)\n",
        "  for i in range(0,n//2):\n",
        "    if str[i]==str[n-1-i]:\n",
        "      return True\n",
        "    return False\n",
        "\n",
        "str='MAMA'\n",
        "string=is_palindrone(str)\n",
        "print(string)"
      ]
    }
  ]
}