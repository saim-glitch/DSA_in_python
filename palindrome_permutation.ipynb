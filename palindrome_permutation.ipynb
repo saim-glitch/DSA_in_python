{
  "nbformat": 4,
  "nbformat_minor": 0,
  "metadata": {
    "colab": {
      "provenance": [],
      "authorship_tag": "ABX9TyM3nfefUTbfyXIypfsoubVs",
      "include_colab_link": true
    },
    "kernelspec": {
      "name": "python3",
      "display_name": "Python 3"
    },
    "language_info": {
      "name": "python"
    }
  },
  "cells": [
    {
      "cell_type": "markdown",
      "metadata": {
        "id": "view-in-github",
        "colab_type": "text"
      },
      "source": [
        "<a href=\"https://colab.research.google.com/github/saim-glitch/DSA_in_python/blob/main/palindrome_permutation.ipynb\" target=\"_parent\"><img src=\"https://colab.research.google.com/assets/colab-badge.svg\" alt=\"Open In Colab\"/></a>"
      ]
    },
    {
      "cell_type": "code",
      "execution_count": 2,
      "metadata": {
        "colab": {
          "base_uri": "https://localhost:8080/"
        },
        "id": "4phpkwE-ACLy",
        "outputId": "a0ae398e-9b8c-48ed-b70d-6f1151ae893b"
      },
      "outputs": [
        {
          "output_type": "stream",
          "name": "stdout",
          "text": [
            "True\n"
          ]
        }
      ],
      "source": [
        "def is_palindrome_permut(str):\n",
        "    dict={}\n",
        "    for char in str:\n",
        "        dict[char]=dict.get(char,0)+1\n",
        "\n",
        "    count=0\n",
        "    for key,val in dict.items():\n",
        "        if val %2 != 0:\n",
        "            count +=1\n",
        "\n",
        "    return count <=1\n",
        "\n",
        "\n",
        "str=\"civic\"\n",
        "new=is_palindrome_permut(str)\n",
        "print(new)"
      ]
    },
    {
      "cell_type": "code",
      "source": [],
      "metadata": {
        "id": "OBhXCzv3AWMv"
      },
      "execution_count": null,
      "outputs": []
    }
  ]
}