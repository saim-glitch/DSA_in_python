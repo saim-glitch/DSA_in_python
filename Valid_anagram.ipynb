{
  "nbformat": 4,
  "nbformat_minor": 0,
  "metadata": {
    "colab": {
      "provenance": [],
      "authorship_tag": "ABX9TyOzW9ikQhtg5pBCSuK6dmHN",
      "include_colab_link": true
    },
    "kernelspec": {
      "name": "python3",
      "display_name": "Python 3"
    },
    "language_info": {
      "name": "python"
    }
  },
  "cells": [
    {
      "cell_type": "markdown",
      "metadata": {
        "id": "view-in-github",
        "colab_type": "text"
      },
      "source": [
        "<a href=\"https://colab.research.google.com/github/saim-glitch/DSA_in_python/blob/main/Valid_anagram.ipynb\" target=\"_parent\"><img src=\"https://colab.research.google.com/assets/colab-badge.svg\" alt=\"Open In Colab\"/></a>"
      ]
    },
    {
      "cell_type": "code",
      "execution_count": 4,
      "metadata": {
        "colab": {
          "base_uri": "https://localhost:8080/"
        },
        "id": "gKcn4E5HAgXf",
        "outputId": "1149f449-f968-4692-dfad-276c5956c3b8"
      },
      "outputs": [
        {
          "output_type": "stream",
          "name": "stdout",
          "text": [
            "True\n"
          ]
        }
      ],
      "source": [
        "class Solution(object):\n",
        "    def isAnagram(self, s, t):\n",
        "        dict1={}\n",
        "        dict2={}\n",
        "        for char in s:\n",
        "            dict1[char]= dict1.get(char,0)+1\n",
        "\n",
        "        for char in t:\n",
        "            dict2[char] = dict2.get(char,0)+1\n",
        "\n",
        "        return dict1==dict2\n",
        "\n",
        "solution=Solution()\n",
        "\n",
        "s=\"anagram\"\n",
        "t=\"naagram\"\n",
        "new=solution.isAnagram(s,t)\n",
        "print(new)"
      ]
    }
  ]
}