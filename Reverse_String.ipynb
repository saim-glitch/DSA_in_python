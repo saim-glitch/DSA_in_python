{
  "nbformat": 4,
  "nbformat_minor": 0,
  "metadata": {
    "colab": {
      "provenance": [],
      "authorship_tag": "ABX9TyM33G8QAQoWuoUGtVOt1js7",
      "include_colab_link": true
    },
    "kernelspec": {
      "name": "python3",
      "display_name": "Python 3"
    },
    "language_info": {
      "name": "python"
    }
  },
  "cells": [
    {
      "cell_type": "markdown",
      "metadata": {
        "id": "view-in-github",
        "colab_type": "text"
      },
      "source": [
        "<a href=\"https://colab.research.google.com/github/saim-glitch/DSA_in_python/blob/main/Reverse_String.ipynb\" target=\"_parent\"><img src=\"https://colab.research.google.com/assets/colab-badge.svg\" alt=\"Open In Colab\"/></a>"
      ]
    },
    {
      "cell_type": "code",
      "execution_count": 1,
      "metadata": {
        "id": "3nPovW3z_P75"
      },
      "outputs": [],
      "source": [
        "def reverseString(s):\n",
        "        i=0\n",
        "        j=len(s)-1\n",
        "        while i <= j:\n",
        "            temp=s[i]\n",
        "            s[i]=s[j]\n",
        "            s[j]=temp\n",
        "            i+=1\n",
        "            j-=1\n",
        "        return s"
      ]
    },
    {
      "cell_type": "code",
      "source": [
        "s = [\"h\",\"e\",\"l\",\"l\",\"o\"]"
      ],
      "metadata": {
        "id": "PEE96lGt_aSu"
      },
      "execution_count": 2,
      "outputs": []
    },
    {
      "cell_type": "code",
      "source": [
        "sol=reverseString(s)\n",
        "print(sol)"
      ],
      "metadata": {
        "colab": {
          "base_uri": "https://localhost:8080/"
        },
        "id": "fxwE8-Dl_iqt",
        "outputId": "e9a552a6-dae1-489b-dc03-0147a1d64131"
      },
      "execution_count": 3,
      "outputs": [
        {
          "output_type": "stream",
          "name": "stdout",
          "text": [
            "['o', 'l', 'l', 'e', 'h']\n"
          ]
        }
      ]
    }
  ]
}