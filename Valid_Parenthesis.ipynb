{
  "nbformat": 4,
  "nbformat_minor": 0,
  "metadata": {
    "colab": {
      "provenance": [],
      "authorship_tag": "ABX9TyOkEQ+FjTIk3wL+v85EC1+M",
      "include_colab_link": true
    },
    "kernelspec": {
      "name": "python3",
      "display_name": "Python 3"
    },
    "language_info": {
      "name": "python"
    }
  },
  "cells": [
    {
      "cell_type": "markdown",
      "metadata": {
        "id": "view-in-github",
        "colab_type": "text"
      },
      "source": [
        "<a href=\"https://colab.research.google.com/github/saim-glitch/DSA_in_python/blob/main/Valid_Parenthesis.ipynb\" target=\"_parent\"><img src=\"https://colab.research.google.com/assets/colab-badge.svg\" alt=\"Open In Colab\"/></a>"
      ]
    },
    {
      "cell_type": "code",
      "execution_count": 14,
      "metadata": {
        "id": "XprmBqcBV_Lm"
      },
      "outputs": [],
      "source": [
        "def isValid(s):\n",
        "        hashmap={\")\":\"(\",\"}\":\"{\",\"]\":\"[\"}\n",
        "        stck=[]\n",
        "        for c in s:\n",
        "            if c not in hashmap:\n",
        "                stck.append(c)\n",
        "            else:\n",
        "                if not stck:\n",
        "                    return False\n",
        "                else:\n",
        "                    popped=stck.pop()\n",
        "                    if popped != hashmap[c]:\n",
        "                        return False\n",
        "        return not stck"
      ]
    },
    {
      "cell_type": "code",
      "source": [
        "s =\"()[]{}\"\n",
        "solution=isValid(s)\n",
        "print(solution)"
      ],
      "metadata": {
        "colab": {
          "base_uri": "https://localhost:8080/"
        },
        "id": "4uDmA-TjWPLL",
        "outputId": "a6e1458c-5cc0-4110-92b3-6ee27b832d1a"
      },
      "execution_count": 15,
      "outputs": [
        {
          "output_type": "stream",
          "name": "stdout",
          "text": [
            "True\n"
          ]
        }
      ]
    }
  ]
}