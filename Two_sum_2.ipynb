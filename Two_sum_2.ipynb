{
  "nbformat": 4,
  "nbformat_minor": 0,
  "metadata": {
    "colab": {
      "provenance": [],
      "authorship_tag": "ABX9TyNcSOTyG3KuGxXt9U2V0YfC",
      "include_colab_link": true
    },
    "kernelspec": {
      "name": "python3",
      "display_name": "Python 3"
    },
    "language_info": {
      "name": "python"
    }
  },
  "cells": [
    {
      "cell_type": "markdown",
      "metadata": {
        "id": "view-in-github",
        "colab_type": "text"
      },
      "source": [
        "<a href=\"https://colab.research.google.com/github/saim-glitch/DSA_in_python/blob/main/Two_sum_2.ipynb\" target=\"_parent\"><img src=\"https://colab.research.google.com/assets/colab-badge.svg\" alt=\"Open In Colab\"/></a>"
      ]
    },
    {
      "cell_type": "code",
      "execution_count": 3,
      "metadata": {
        "id": "R17TjfLtg7UY"
      },
      "outputs": [],
      "source": [
        "def twoSum(numbers,target):\n",
        "        n=len(numbers)-1\n",
        "        l=0\n",
        "        r=n\n",
        "        out=0\n",
        "        while l < r:\n",
        "            out=numbers[l]+numbers[r]\n",
        "            if out == target:\n",
        "                return [l+1,r+1]\n",
        "            elif out < target:\n",
        "                l+=1\n",
        "            else:\n",
        "                r-=1"
      ]
    },
    {
      "cell_type": "code",
      "source": [
        "numbers = [2,7,11,15]\n",
        "target = 9\n",
        "solu=twoSum(numbers,target)\n",
        "print(solu)"
      ],
      "metadata": {
        "colab": {
          "base_uri": "https://localhost:8080/"
        },
        "id": "-fPK0n2ZhFtW",
        "outputId": "9dfa7d73-a82f-4fa6-e759-3e52d15b9514"
      },
      "execution_count": 4,
      "outputs": [
        {
          "output_type": "stream",
          "name": "stdout",
          "text": [
            "[1, 2]\n"
          ]
        }
      ]
    }
  ]
}