{
  "nbformat": 4,
  "nbformat_minor": 0,
  "metadata": {
    "colab": {
      "provenance": [],
      "authorship_tag": "ABX9TyOLmVVzkFAtq06+ObNIgp3f",
      "include_colab_link": true
    },
    "kernelspec": {
      "name": "python3",
      "display_name": "Python 3"
    },
    "language_info": {
      "name": "python"
    }
  },
  "cells": [
    {
      "cell_type": "markdown",
      "metadata": {
        "id": "view-in-github",
        "colab_type": "text"
      },
      "source": [
        "<a href=\"https://colab.research.google.com/github/saim-glitch/DSA_in_python/blob/main/sliding_window.ipynb\" target=\"_parent\"><img src=\"https://colab.research.google.com/assets/colab-badge.svg\" alt=\"Open In Colab\"/></a>"
      ]
    },
    {
      "cell_type": "code",
      "execution_count": 1,
      "metadata": {
        "colab": {
          "base_uri": "https://localhost:8080/"
        },
        "id": "TyGr9Xpau9s4",
        "outputId": "7cdd56eb-e347-4727-f748-7aa8aade9584"
      },
      "outputs": [
        {
          "output_type": "stream",
          "name": "stdout",
          "text": [
            "11\n"
          ]
        }
      ],
      "source": [
        "def sliding_window(arr,k):\n",
        "    i=0\n",
        "    j =len(arr)\n",
        "    max_number=float(\"-inf\")\n",
        "    while k <= j:\n",
        "        new_array=arr[0+i:k]\n",
        "        new_array=sum(new_array)\n",
        "        max_number=max(new_array,max_number)\n",
        "        i+=1\n",
        "        k+=1\n",
        "\n",
        "    return max_number\n",
        "\n",
        "arr=[1,2,3,4,5,6]\n",
        "k=2\n",
        "new=sliding_window(arr,k)\n",
        "print(new)\n"
      ]
    }
  ]
}