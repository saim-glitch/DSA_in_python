{
  "nbformat": 4,
  "nbformat_minor": 0,
  "metadata": {
    "colab": {
      "provenance": [],
      "authorship_tag": "ABX9TyOdwK4xhyrKEMQolNf3S5f9",
      "include_colab_link": true
    },
    "kernelspec": {
      "name": "python3",
      "display_name": "Python 3"
    },
    "language_info": {
      "name": "python"
    }
  },
  "cells": [
    {
      "cell_type": "markdown",
      "metadata": {
        "id": "view-in-github",
        "colab_type": "text"
      },
      "source": [
        "<a href=\"https://colab.research.google.com/github/saim-glitch/DSA_in_python/blob/main/Palindromic_substring.ipynb\" target=\"_parent\"><img src=\"https://colab.research.google.com/assets/colab-badge.svg\" alt=\"Open In Colab\"/></a>"
      ]
    },
    {
      "cell_type": "code",
      "execution_count": 4,
      "metadata": {
        "colab": {
          "base_uri": "https://localhost:8080/"
        },
        "id": "N_LGs9TFHI7x",
        "outputId": "a9582af9-0587-405f-c4d6-4c24d5a28552"
      },
      "outputs": [
        {
          "output_type": "stream",
          "name": "stdout",
          "text": [
            "6\n"
          ]
        }
      ],
      "source": [
        "def countSubstrings(s):\n",
        "   n=len(s)\n",
        "   count=0\n",
        "   for i in range(n):\n",
        "    for j in range(i+1,n+1):\n",
        "      substring=s[i:j]\n",
        "      if substring==substring[::-1]:\n",
        "        count+=1\n",
        "   return count\n",
        "\n",
        "s=\"abcdef\"\n",
        "result=countSubstrings(s)\n",
        "print(result)"
      ]
    }
  ]
}