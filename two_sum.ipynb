{
  "nbformat": 4,
  "nbformat_minor": 0,
  "metadata": {
    "colab": {
      "provenance": [],
      "authorship_tag": "ABX9TyPPcEx/O7BGBMsCmpDrhxQD",
      "include_colab_link": true
    },
    "kernelspec": {
      "name": "python3",
      "display_name": "Python 3"
    },
    "language_info": {
      "name": "python"
    }
  },
  "cells": [
    {
      "cell_type": "markdown",
      "metadata": {
        "id": "view-in-github",
        "colab_type": "text"
      },
      "source": [
        "<a href=\"https://colab.research.google.com/github/saim-glitch/DSA_in_python/blob/main/two_sum.ipynb\" target=\"_parent\"><img src=\"https://colab.research.google.com/assets/colab-badge.svg\" alt=\"Open In Colab\"/></a>"
      ]
    },
    {
      "cell_type": "code",
      "execution_count": 5,
      "metadata": {
        "colab": {
          "base_uri": "https://localhost:8080/"
        },
        "id": "0DI--HrTB4D2",
        "outputId": "f3f22f8c-fc17-4d3f-98f5-0610f2b75536"
      },
      "outputs": [
        {
          "output_type": "stream",
          "name": "stdout",
          "text": [
            "[5, 6]\n"
          ]
        }
      ],
      "source": [
        "def two_sum(list,target):\n",
        "  for i in range(len(list)):\n",
        "    for j in range(i+1,len(list)):\n",
        "      if list[i]+list[j]==target:\n",
        "        return [i,j]\n",
        "\n",
        "\n",
        "\n",
        "\n",
        "list=[1,2,3,4,5,6,7]\n",
        "target=13\n",
        "new=two_sum(list,target)\n",
        "print(new)\n"
      ]
    }
  ]
}