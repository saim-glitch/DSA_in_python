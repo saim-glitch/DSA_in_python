{
  "nbformat": 4,
  "nbformat_minor": 0,
  "metadata": {
    "colab": {
      "provenance": [],
      "authorship_tag": "ABX9TyPgihp6uLBE3yQiSMFgZwqd",
      "include_colab_link": true
    },
    "kernelspec": {
      "name": "python3",
      "display_name": "Python 3"
    },
    "language_info": {
      "name": "python"
    }
  },
  "cells": [
    {
      "cell_type": "markdown",
      "metadata": {
        "id": "view-in-github",
        "colab_type": "text"
      },
      "source": [
        "<a href=\"https://colab.research.google.com/github/saim-glitch/DSA_in_python/blob/main/Valid_Sudoku.ipynb\" target=\"_parent\"><img src=\"https://colab.research.google.com/assets/colab-badge.svg\" alt=\"Open In Colab\"/></a>"
      ]
    },
    {
      "cell_type": "code",
      "execution_count": 1,
      "metadata": {
        "id": "sYxm547MyBkX"
      },
      "outputs": [],
      "source": [
        "def isValidSudoku(board):\n",
        "        #Their are three parts of this solution\n",
        "        #1-Validate rows\n",
        "        for i in range(9):\n",
        "            s=set()\n",
        "            for j in range(9):\n",
        "                item=board[i][j]\n",
        "                if item in s:\n",
        "                    return False\n",
        "                elif item != \".\":\n",
        "                    s.add(item)\n",
        "\n",
        "        for i in range(9):\n",
        "            s=set()\n",
        "            for j in range(9):\n",
        "                item=board[j][i]\n",
        "                if item in s:\n",
        "                    return False\n",
        "                elif item != \".\":\n",
        "                    s.add(item)\n",
        "\n",
        "        starts=[(0,0),(0,3),(0,6),\n",
        "        (3,0),(3,3),(3,6),\n",
        "        (6,0),(6,3),(6,6)]\n",
        "        for i,j in starts:\n",
        "            s=set()\n",
        "            for row in range(i,i+3):\n",
        "                for col in range(j,j+3):\n",
        "                    item=board[row][col]\n",
        "                    if item in s:\n",
        "                        return False\n",
        "                    elif item != \".\":\n",
        "                        s.add(item)\n",
        "        return True"
      ]
    },
    {
      "cell_type": "code",
      "source": [
        "board = [[\"5\",\"3\",\".\",\".\",\"7\",\".\",\".\",\".\",\".\"]\n",
        ",[\"6\",\".\",\".\",\"1\",\"9\",\"5\",\".\",\".\",\".\"]\n",
        ",[\".\",\"9\",\"8\",\".\",\".\",\".\",\".\",\"6\",\".\"]\n",
        ",[\"8\",\".\",\".\",\".\",\"6\",\".\",\".\",\".\",\"3\"]\n",
        ",[\"4\",\".\",\".\",\"8\",\".\",\"3\",\".\",\".\",\"1\"]\n",
        ",[\"7\",\".\",\".\",\".\",\"2\",\".\",\".\",\".\",\"6\"]\n",
        ",[\".\",\"6\",\".\",\".\",\".\",\".\",\"2\",\"8\",\".\"]\n",
        ",[\".\",\".\",\".\",\"4\",\"1\",\"9\",\".\",\".\",\"5\"]\n",
        ",[\".\",\".\",\".\",\".\",\"8\",\".\",\".\",\"7\",\"9\"]]\n",
        "solution=isValidSudoku(board)\n",
        "print(solution)"
      ],
      "metadata": {
        "colab": {
          "base_uri": "https://localhost:8080/"
        },
        "id": "6UbC7U6gyTi2",
        "outputId": "4d851cc5-3e60-446c-bbc8-2b7a52e831d6"
      },
      "execution_count": 3,
      "outputs": [
        {
          "output_type": "stream",
          "name": "stdout",
          "text": [
            "True\n"
          ]
        }
      ]
    },
    {
      "cell_type": "code",
      "source": [
        "board = [[\"8\",\"3\",\".\",\".\",\"7\",\".\",\".\",\".\",\".\"]\n",
        ",[\"6\",\".\",\".\",\"1\",\"9\",\"5\",\".\",\".\",\".\"]\n",
        ",[\".\",\"9\",\"8\",\".\",\".\",\".\",\".\",\"6\",\".\"]\n",
        ",[\"8\",\".\",\".\",\".\",\"6\",\".\",\".\",\".\",\"3\"]\n",
        ",[\"4\",\".\",\".\",\"8\",\".\",\"3\",\".\",\".\",\"1\"]\n",
        ",[\"7\",\".\",\".\",\".\",\"2\",\".\",\".\",\".\",\"6\"]\n",
        ",[\".\",\"6\",\".\",\".\",\".\",\".\",\"2\",\"8\",\".\"]\n",
        ",[\".\",\".\",\".\",\"4\",\"1\",\"9\",\".\",\".\",\"5\"]\n",
        ",[\".\",\".\",\".\",\".\",\"8\",\".\",\".\",\"7\",\"9\"]]\n",
        "Solution=isValidSudoku(board)\n",
        "print(Solution)"
      ],
      "metadata": {
        "colab": {
          "base_uri": "https://localhost:8080/"
        },
        "id": "jKrA3Hhryh_a",
        "outputId": "a75a58aa-7ecc-44b7-f104-f9deb7521d2d"
      },
      "execution_count": 4,
      "outputs": [
        {
          "output_type": "stream",
          "name": "stdout",
          "text": [
            "False\n"
          ]
        }
      ]
    }
  ]
}