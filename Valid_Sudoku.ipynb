{
  "nbformat": 4,
  "nbformat_minor": 0,
  "metadata": {
    "colab": {
      "provenance": [],
      "authorship_tag": "ABX9TyOFKxpH8z5Hp0EDK90wdmNv",
      "include_colab_link": true
    },
    "kernelspec": {
      "name": "python3",
      "display_name": "Python 3"
    },
    "language_info": {
      "name": "python"
    }
  },
  "cells": [
    {
      "cell_type": "markdown",
      "metadata": {
        "id": "view-in-github",
        "colab_type": "text"
      },
      "source": [
        "<a href=\"https://colab.research.google.com/github/saim-glitch/DSA_in_python/blob/main/Valid_Sudoku.ipynb\" target=\"_parent\"><img src=\"https://colab.research.google.com/assets/colab-badge.svg\" alt=\"Open In Colab\"/></a>"
      ]
    },
    {
      "cell_type": "code",
      "execution_count": 7,
      "metadata": {
        "id": "Xy8x2S5ORyW9"
      },
      "outputs": [],
      "source": [
        "def isValidSudoku(board):\n",
        "        #valid rows\n",
        "        #valid columns\n",
        "        #valid boxes\n",
        "        for i in range(9):\n",
        "            rows=set()\n",
        "            for j in range(9):\n",
        "                if board[i][j] in rows:\n",
        "                    return False\n",
        "                elif board[i][j] != \".\":\n",
        "                    rows.add(board[i][j])\n",
        "        for j in range(9):\n",
        "            col=set()\n",
        "            for i in range(9):\n",
        "                if board[i][j] in col:\n",
        "                    return False\n",
        "                elif board[i][j] != \".\":\n",
        "                    col.add(board[i][j])\n",
        "\n",
        "        starts=[(0,0),(0,3),(0,6),(3,0),(3,3),(3,6),(6,0),(6,3),(6,6)]\n",
        "        for i,j in starts:\n",
        "            s=set()\n",
        "            for row in range(i,i+3):\n",
        "                for col in range(j,j+3):\n",
        "                    if board[row][col] in s:\n",
        "                        return False\n",
        "                    elif board[row][col] != \".\":\n",
        "                        s.add(board[row][col])\n",
        "        return True"
      ]
    },
    {
      "cell_type": "code",
      "source": [
        "board =[[\"5\",\"3\",\".\",\".\",\"7\",\".\",\".\",\".\",\".\"],[\"6\",\".\",\".\",\"1\",\"9\",\"5\",\".\",\".\",\".\"],[\".\",\"9\",\"8\",\".\",\".\",\".\",\".\",\"6\",\".\"],[\"8\",\".\",\".\",\".\",\"6\",\".\",\".\",\".\",\"3\"],[\"4\",\".\",\".\",\"8\",\".\",\"3\",\".\",\".\",\"1\"],[\"7\",\".\",\".\",\".\",\"2\",\".\",\".\",\".\",\"6\"],[\".\",\"6\",\".\",\".\",\".\",\".\",\"2\",\"8\",\".\"],[\".\",\".\",\".\",\"4\",\"1\",\"9\",\".\",\".\",\"5\"],[\".\",\".\",\".\",\".\",\"8\",\".\",\".\",\"7\",\"9\"]]"
      ],
      "metadata": {
        "id": "0zRC17qrR8o5"
      },
      "execution_count": 8,
      "outputs": []
    },
    {
      "cell_type": "code",
      "source": [
        "sol=isValidSudoku(board)\n",
        "print(sol)"
      ],
      "metadata": {
        "colab": {
          "base_uri": "https://localhost:8080/"
        },
        "id": "MSZliNsjSO5l",
        "outputId": "f8a049de-f346-439d-d1f7-38bb93f8a906"
      },
      "execution_count": 9,
      "outputs": [
        {
          "output_type": "stream",
          "name": "stdout",
          "text": [
            "True\n"
          ]
        }
      ]
    }
  ]
}