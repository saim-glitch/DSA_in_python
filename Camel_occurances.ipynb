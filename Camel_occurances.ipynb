{
  "nbformat": 4,
  "nbformat_minor": 0,
  "metadata": {
    "colab": {
      "provenance": [],
      "authorship_tag": "ABX9TyMIuG21y+qT3rdSNAwFraOT",
      "include_colab_link": true
    },
    "kernelspec": {
      "name": "python3",
      "display_name": "Python 3"
    },
    "language_info": {
      "name": "python"
    }
  },
  "cells": [
    {
      "cell_type": "markdown",
      "metadata": {
        "id": "view-in-github",
        "colab_type": "text"
      },
      "source": [
        "<a href=\"https://colab.research.google.com/github/saim-glitch/DSA_in_python/blob/main/Camel_occurances.ipynb\" target=\"_parent\"><img src=\"https://colab.research.google.com/assets/colab-badge.svg\" alt=\"Open In Colab\"/></a>"
      ]
    },
    {
      "cell_type": "code",
      "execution_count": 3,
      "metadata": {
        "id": "UK-SD8pePTvf"
      },
      "outputs": [],
      "source": [
        "def camel_case(str):\n",
        "    li=str.split(\" \")\n",
        "    list=[]\n",
        "    for element in li:\n",
        "        list += element.title()\n",
        "        list += \" \"\n",
        "    return \"\".join(list)"
      ]
    },
    {
      "cell_type": "code",
      "source": [
        "string=\"Hello world this is me Muhammad saim ali\"\n",
        "final=camel_case(string)\n",
        "print(final)"
      ],
      "metadata": {
        "colab": {
          "base_uri": "https://localhost:8080/"
        },
        "id": "KKAbPlVAPazI",
        "outputId": "b5ab5673-b909-4e5b-a840-da68e275b13d"
      },
      "execution_count": 4,
      "outputs": [
        {
          "output_type": "stream",
          "name": "stdout",
          "text": [
            "Hello World This Is Me Muhammad Saim Ali \n"
          ]
        }
      ]
    }
  ]
}