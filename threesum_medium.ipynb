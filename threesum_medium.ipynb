{
  "nbformat": 4,
  "nbformat_minor": 0,
  "metadata": {
    "colab": {
      "provenance": [],
      "authorship_tag": "ABX9TyO8+bXXwAW2YHchzi9OWIuw",
      "include_colab_link": true
    },
    "kernelspec": {
      "name": "python3",
      "display_name": "Python 3"
    },
    "language_info": {
      "name": "python"
    }
  },
  "cells": [
    {
      "cell_type": "markdown",
      "metadata": {
        "id": "view-in-github",
        "colab_type": "text"
      },
      "source": [
        "<a href=\"https://colab.research.google.com/github/saim-glitch/DSA_in_python/blob/main/threesum_medium.ipynb\" target=\"_parent\"><img src=\"https://colab.research.google.com/assets/colab-badge.svg\" alt=\"Open In Colab\"/></a>"
      ]
    },
    {
      "cell_type": "code",
      "execution_count": 2,
      "metadata": {
        "id": "6l0DvGaXLYWw"
      },
      "outputs": [],
      "source": [
        "def threeSum(nums):\n",
        "        nums.sort()\n",
        "        n=len(nums)-1\n",
        "        k=n\n",
        "        output=[]\n",
        "        for i in range(n+1):\n",
        "            if nums[i] >0:\n",
        "                break\n",
        "            elif i > 0 and nums[i] == nums[i-1]:\n",
        "                continue\n",
        "            lo=i+1\n",
        "            hi=n\n",
        "            while lo < hi:\n",
        "                SUM=nums[i] +nums[lo] +nums[hi]\n",
        "                if SUM==0:\n",
        "                    output.append([nums[i],nums[lo],nums[hi]])\n",
        "                    lo+=1\n",
        "                    hi-=1\n",
        "                    while lo < hi and nums[lo] == nums[lo -1]:\n",
        "                        lo+=1\n",
        "                    while lo < hi and nums[hi] == nums[hi+1]:\n",
        "                        hi-=1\n",
        "                elif SUM <0:\n",
        "                    lo+=1\n",
        "                else:\n",
        "                    hi-=1\n",
        "        return output"
      ]
    },
    {
      "cell_type": "code",
      "source": [
        "nums =[-1,0,1,2,-1,-4]"
      ],
      "metadata": {
        "id": "sa1hipHFLsW1"
      },
      "execution_count": 3,
      "outputs": []
    },
    {
      "cell_type": "code",
      "source": [
        "sol=threeSum(nums)\n",
        "print(sol)"
      ],
      "metadata": {
        "colab": {
          "base_uri": "https://localhost:8080/"
        },
        "id": "Xnnra9h3L48T",
        "outputId": "f9cb34c4-3126-48bb-ffae-35e25dfff50d"
      },
      "execution_count": 4,
      "outputs": [
        {
          "output_type": "stream",
          "name": "stdout",
          "text": [
            "[[-1, -1, 2], [-1, 0, 1]]\n"
          ]
        }
      ]
    }
  ]
}