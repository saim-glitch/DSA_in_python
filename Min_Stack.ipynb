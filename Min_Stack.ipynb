{
  "nbformat": 4,
  "nbformat_minor": 0,
  "metadata": {
    "colab": {
      "provenance": [],
      "authorship_tag": "ABX9TyNl4sKFjyBZIjzJnhNqbXdC",
      "include_colab_link": true
    },
    "kernelspec": {
      "name": "python3",
      "display_name": "Python 3"
    },
    "language_info": {
      "name": "python"
    }
  },
  "cells": [
    {
      "cell_type": "markdown",
      "metadata": {
        "id": "view-in-github",
        "colab_type": "text"
      },
      "source": [
        "<a href=\"https://colab.research.google.com/github/saim-glitch/DSA_in_python/blob/main/Min_Stack.ipynb\" target=\"_parent\"><img src=\"https://colab.research.google.com/assets/colab-badge.svg\" alt=\"Open In Colab\"/></a>"
      ]
    },
    {
      "cell_type": "code",
      "execution_count": 1,
      "metadata": {
        "id": "tvXl4g58MRyg"
      },
      "outputs": [],
      "source": [
        "    def __init__(self):\n",
        "        self.stck=[]\n",
        "        self.min_stck=[]\n",
        "    def push(self, val: int) -> None:\n",
        "        self.stck.append(val)\n",
        "        if not self.min_stck:\n",
        "            self.min_stck.append(val)\n",
        "        elif self.min_stck[-1] < val:\n",
        "            self.min_stck.append(self.min_stck[-1])\n",
        "        else:\n",
        "            self.min_stck.append(val)\n",
        "    def pop(self) -> None:\n",
        "        self.stck.pop()\n",
        "        self.min_stck.pop()\n",
        "    def top(self) -> int:\n",
        "        return self.stck[-1]\n",
        "    def getMin(self) -> int:\n",
        "        return self.min_stck[-1]"
      ]
    },
    {
      "cell_type": "code",
      "source": [],
      "metadata": {
        "id": "IG2eaF82McZ4"
      },
      "execution_count": null,
      "outputs": []
    }
  ]
}