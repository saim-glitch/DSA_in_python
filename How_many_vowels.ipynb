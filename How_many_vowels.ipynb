{
  "nbformat": 4,
  "nbformat_minor": 0,
  "metadata": {
    "colab": {
      "provenance": [],
      "authorship_tag": "ABX9TyNdKoHq7LBHNSk8c7oAn90w",
      "include_colab_link": true
    },
    "kernelspec": {
      "name": "python3",
      "display_name": "Python 3"
    },
    "language_info": {
      "name": "python"
    }
  },
  "cells": [
    {
      "cell_type": "markdown",
      "metadata": {
        "id": "view-in-github",
        "colab_type": "text"
      },
      "source": [
        "<a href=\"https://colab.research.google.com/github/saim-glitch/DSA_in_python/blob/main/How_many_vowels.ipynb\" target=\"_parent\"><img src=\"https://colab.research.google.com/assets/colab-badge.svg\" alt=\"Open In Colab\"/></a>"
      ]
    },
    {
      "cell_type": "code",
      "execution_count": null,
      "metadata": {
        "id": "WHBqHbz91ogR"
      },
      "outputs": [],
      "source": [
        "def How_many_vowels(str):\n",
        "    count=0\n",
        "    for item in str:\n",
        "        if item not in {\"a\",\"e\",\"i\",\"o\",\"u\"}:\n",
        "            count +=1\n",
        "\n",
        "        else:\n",
        "            count=count\n",
        "\n",
        "    return count\n",
        "\n",
        "\n",
        "str=\"programming\"\n",
        "occ=How_many_vowels(str)\n",
        "print(occ)"
      ]
    }
  ]
}