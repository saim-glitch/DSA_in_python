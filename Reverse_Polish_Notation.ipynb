{
  "nbformat": 4,
  "nbformat_minor": 0,
  "metadata": {
    "colab": {
      "provenance": [],
      "authorship_tag": "ABX9TyMBr/yfuwWqE0A3u4+5zm0m",
      "include_colab_link": true
    },
    "kernelspec": {
      "name": "python3",
      "display_name": "Python 3"
    },
    "language_info": {
      "name": "python"
    }
  },
  "cells": [
    {
      "cell_type": "markdown",
      "metadata": {
        "id": "view-in-github",
        "colab_type": "text"
      },
      "source": [
        "<a href=\"https://colab.research.google.com/github/saim-glitch/DSA_in_python/blob/main/Reverse_Polish_Notation.ipynb\" target=\"_parent\"><img src=\"https://colab.research.google.com/assets/colab-badge.svg\" alt=\"Open In Colab\"/></a>"
      ]
    },
    {
      "cell_type": "code",
      "execution_count": 2,
      "metadata": {
        "id": "XprmBqcBV_Lm"
      },
      "outputs": [],
      "source": [
        "  def evalRPN(tokens):\n",
        "        stck=[]\n",
        "        for t in tokens:\n",
        "            if t in \"+-/*\":\n",
        "                b,a=stck.pop(),stck.pop()\n",
        "                if t== \"+\":\n",
        "                    stck.append(a + b)\n",
        "                elif t == \"*\":\n",
        "                    stck.append(a * b)\n",
        "                elif t == \"-\":\n",
        "                    stck.append(a-b)\n",
        "                else:\n",
        "                    division = a/b\n",
        "                    if division < 0:\n",
        "                        stck.append(ceil(division))\n",
        "                    else:\n",
        "                        stck.append(floor(division))\n",
        "            else:\n",
        "                stck.append(int(t))\n",
        "\n",
        "        return stck[0]"
      ]
    },
    {
      "cell_type": "code",
      "source": [
        "tokens =[\"2\",\"1\",\"+\",\"3\",\"*\"]\n",
        "solution=evalRPN(tokens)\n",
        "print(solution)"
      ],
      "metadata": {
        "colab": {
          "base_uri": "https://localhost:8080/"
        },
        "id": "4uDmA-TjWPLL",
        "outputId": "bb7cc322-868c-4f20-b59b-07ecb07b36a7"
      },
      "execution_count": 4,
      "outputs": [
        {
          "output_type": "stream",
          "name": "stdout",
          "text": [
            "9\n"
          ]
        }
      ]
    }
  ]
}