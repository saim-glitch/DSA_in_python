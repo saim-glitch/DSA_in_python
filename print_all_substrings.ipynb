{
  "nbformat": 4,
  "nbformat_minor": 0,
  "metadata": {
    "colab": {
      "provenance": [],
      "authorship_tag": "ABX9TyNXdEpbOqIZfYWTavK8wYUP",
      "include_colab_link": true
    },
    "kernelspec": {
      "name": "python3",
      "display_name": "Python 3"
    },
    "language_info": {
      "name": "python"
    }
  },
  "cells": [
    {
      "cell_type": "markdown",
      "metadata": {
        "id": "view-in-github",
        "colab_type": "text"
      },
      "source": [
        "<a href=\"https://colab.research.google.com/github/saim-glitch/DSA_in_python/blob/main/print_all_substrings.ipynb\" target=\"_parent\"><img src=\"https://colab.research.google.com/assets/colab-badge.svg\" alt=\"Open In Colab\"/></a>"
      ]
    },
    {
      "cell_type": "code",
      "execution_count": 2,
      "metadata": {
        "colab": {
          "base_uri": "https://localhost:8080/"
        },
        "id": "XAZyAlt05JyS",
        "outputId": "b18863f9-91f5-4007-bd10-57a41784a1fa"
      },
      "outputs": [
        {
          "output_type": "stream",
          "name": "stdout",
          "text": [
            "a\n",
            "ab\n",
            "abc\n",
            "abcd\n",
            "abcde\n",
            "abcdef\n",
            "abcdefg\n",
            "b\n",
            "bc\n",
            "bcd\n",
            "bcde\n",
            "bcdef\n",
            "bcdefg\n",
            "c\n",
            "cd\n",
            "cde\n",
            "cdef\n",
            "cdefg\n",
            "d\n",
            "de\n",
            "def\n",
            "defg\n",
            "e\n",
            "ef\n",
            "efg\n",
            "f\n",
            "fg\n",
            "g\n",
            "<function print_all_substrings at 0x7ba99f6c77e0>\n"
          ]
        }
      ],
      "source": [
        "def print_all_substrings(str):\n",
        "  n=len(str)\n",
        "  for i in range(n):\n",
        "    for j in range(i+1,n):\n",
        "      print(str[i:j])\n",
        "\n",
        "str=\"abcdefgh\"\n",
        "result=print_all_substrings(str)\n",
        "print(print_all_substrings)\n"
      ]
    }
  ]
}