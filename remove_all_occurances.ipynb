{
  "nbformat": 4,
  "nbformat_minor": 0,
  "metadata": {
    "colab": {
      "provenance": [],
      "authorship_tag": "ABX9TyP3PEvWK2i82Ww27kgnqvuz",
      "include_colab_link": true
    },
    "kernelspec": {
      "name": "python3",
      "display_name": "Python 3"
    },
    "language_info": {
      "name": "python"
    }
  },
  "cells": [
    {
      "cell_type": "markdown",
      "metadata": {
        "id": "view-in-github",
        "colab_type": "text"
      },
      "source": [
        "<a href=\"https://colab.research.google.com/github/saim-glitch/DSA_in_python/blob/main/remove_all_occurances.ipynb\" target=\"_parent\"><img src=\"https://colab.research.google.com/assets/colab-badge.svg\" alt=\"Open In Colab\"/></a>"
      ]
    },
    {
      "cell_type": "code",
      "execution_count": 1,
      "metadata": {
        "id": "UK-SD8pePTvf"
      },
      "outputs": [],
      "source": [
        "def remove_all_occurances(str,letter):\n",
        "    li=list(str)\n",
        "    for ele in li:\n",
        "        if ele==letter:\n",
        "            li.remove(ele)\n",
        "    return \"\".join(li)"
      ]
    },
    {
      "cell_type": "code",
      "source": [
        "string=\"Hello world this is me Muhammad saim ali\"\n",
        "letter=\"o\"\n",
        "occ=remove_all_occurances(string,letter)\n",
        "print(occ)\n"
      ],
      "metadata": {
        "colab": {
          "base_uri": "https://localhost:8080/"
        },
        "id": "KKAbPlVAPazI",
        "outputId": "edaf9d3d-8069-466c-8ac6-12921186e1a6"
      },
      "execution_count": 2,
      "outputs": [
        {
          "output_type": "stream",
          "name": "stdout",
          "text": [
            "Hell wrld this is me Muhammad saim ali\n"
          ]
        }
      ]
    }
  ]
}