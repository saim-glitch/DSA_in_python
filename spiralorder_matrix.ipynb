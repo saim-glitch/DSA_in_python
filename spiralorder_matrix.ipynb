{
  "nbformat": 4,
  "nbformat_minor": 0,
  "metadata": {
    "colab": {
      "provenance": [],
      "authorship_tag": "ABX9TyMVdzD3DbBe4bgyjBhDex6m",
      "include_colab_link": true
    },
    "kernelspec": {
      "name": "python3",
      "display_name": "Python 3"
    },
    "language_info": {
      "name": "python"
    }
  },
  "cells": [
    {
      "cell_type": "markdown",
      "metadata": {
        "id": "view-in-github",
        "colab_type": "text"
      },
      "source": [
        "<a href=\"https://colab.research.google.com/github/saim-glitch/DSA_in_python/blob/main/spiralorder_matrix.ipynb\" target=\"_parent\"><img src=\"https://colab.research.google.com/assets/colab-badge.svg\" alt=\"Open In Colab\"/></a>"
      ]
    },
    {
      "cell_type": "code",
      "execution_count": null,
      "metadata": {
        "id": "IS897hwM2R8n"
      },
      "outputs": [],
      "source": [
        "class Solution(object):\n",
        "    def spiralOrder(self, matrix):\n",
        "        n=len(matrix)\n",
        "        m=len(matrix[0])\n",
        "        left=0\n",
        "        right=m-1\n",
        "        top=0\n",
        "        bottom=n-1\n",
        "        result=[]\n",
        "        count=0\n",
        "        while count <= m*n:\n",
        "            if count >= m*n:\n",
        "                break\n",
        "            for j in range(left,right+1):\n",
        "                result.append(matrix[top][j])\n",
        "                count +=1\n",
        "            top +=1\n",
        "            if count >= m*n:\n",
        "                break\n",
        "            for i in range(top,bottom+1):\n",
        "                result.append(matrix[i][right])\n",
        "                count +=1\n",
        "            right -=1\n",
        "            if count >= m*n:\n",
        "                break\n",
        "            for j in range(right,left-1,-1):\n",
        "                result.append(matrix[bottom][j])\n",
        "                count+=1\n",
        "            bottom -=1\n",
        "            if count >= m*n:\n",
        "                break\n",
        "            for i in range(bottom,top,-1):\n",
        "                result.append(matrix[i][left])\n",
        "                count +=1\n",
        "            left +=1\n",
        "        return matrix\n",
        "\n",
        "\n",
        "\n",
        "# Example usage\n",
        "if __name__ == \"__main__\":\n",
        "    matrix = [\n",
        "        [1, 2, 3],\n",
        "        [4, 5, 6],\n",
        "        [7, 8, 9]\n",
        "    ]\n",
        "    sol = Solution()\n",
        "    print(sol.spiralOrder(matrix))  # Output: [1, 2, 3, 6, 9, 8, 7, 4, 5]"
      ]
    }
  ]
}