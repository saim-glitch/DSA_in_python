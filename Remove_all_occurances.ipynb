{
 "cells": [
  {
   "cell_type": "code",
   "execution_count": 3,
   "metadata": {},
   "outputs": [],
   "source": [
    "def remove_all_occurances(str,letter):\n",
    "    li=list(str)\n",
    "    for ele in li:\n",
    "        if ele==letter:\n",
    "            li.remove(ele)\n",
    "    return \"\".join(li)"
   ]
  },
  {
   "cell_type": "code",
   "execution_count": 4,
   "metadata": {},
   "outputs": [
    {
     "name": "stdout",
     "output_type": "stream",
     "text": [
      "Hell wrld this is me Muhammad saim ali\n"
     ]
    }
   ],
   "source": [
    "string=\"Hello world this is me Muhammad saim ali\"\n",
    "letter=\"o\"\n",
    "occ=remove_all_occurances(string,letter)\n",
    "print(occ)\n"
   ]
  },
  {
   "cell_type": "code",
   "execution_count": null,
   "metadata": {},
   "outputs": [],
   "source": [
    "def camel_case(str):\n",
    "    li=str.split(\" \")\n",
    "    list=[]\n",
    "    for element in li:\n",
    "        list += element.title()\n",
    "        list += \" \"\n",
    "    return \"\".join(list)\n"
   ]
  },
  {
   "cell_type": "code",
   "execution_count": 18,
   "metadata": {},
   "outputs": [
    {
     "name": "stdout",
     "output_type": "stream",
     "text": [
      "Hello\n",
      "world\n",
      "this\n",
      "is\n",
      "me\n",
      "Muhammad\n",
      "saim\n",
      "ali\n",
      "Hello World This Is Me Muhammad Saim Ali \n"
     ]
    }
   ],
   "source": [
    "string=\"Hello world this is me Muhammad saim ali\"\n",
    "final=camel_case(string)\n",
    "print(final)"
   ]
  }
 ],
 "metadata": {
  "kernelspec": {
   "display_name": "Python 3",
   "language": "python",
   "name": "python3"
  },
  "language_info": {
   "codemirror_mode": {
    "name": "ipython",
    "version": 3
   },
   "file_extension": ".py",
   "mimetype": "text/x-python",
   "name": "python",
   "nbconvert_exporter": "python",
   "pygments_lexer": "ipython3",
   "version": "3.11.4"
  }
 },
 "nbformat": 4,
 "nbformat_minor": 2
}
