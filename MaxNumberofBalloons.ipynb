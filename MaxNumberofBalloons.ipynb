{
  "nbformat": 4,
  "nbformat_minor": 0,
  "metadata": {
    "colab": {
      "provenance": [],
      "authorship_tag": "ABX9TyMBFgHC2haS8xzCGxacpmZo",
      "include_colab_link": true
    },
    "kernelspec": {
      "name": "python3",
      "display_name": "Python 3"
    },
    "language_info": {
      "name": "python"
    }
  },
  "cells": [
    {
      "cell_type": "markdown",
      "metadata": {
        "id": "view-in-github",
        "colab_type": "text"
      },
      "source": [
        "<a href=\"https://colab.research.google.com/github/saim-glitch/DSA_in_python/blob/main/MaxNumberofBalloons.ipynb\" target=\"_parent\"><img src=\"https://colab.research.google.com/assets/colab-badge.svg\" alt=\"Open In Colab\"/></a>"
      ]
    },
    {
      "cell_type": "code",
      "execution_count": 2,
      "metadata": {
        "id": "abGqWs_9_pn8"
      },
      "outputs": [],
      "source": [
        "from collections import defaultdict\n",
        "def maxNumberOfBalloons(text: str) -> int:\n",
        "        counter=defaultdict(int)\n",
        "        balloon=\"balloon\"\n",
        "        for c in text:\n",
        "            if c in balloon:\n",
        "                counter[c] += 1\n",
        "        if any(c not in counter for c in balloon):\n",
        "            return 0\n",
        "        else:\n",
        "            return min(counter[\"b\"],counter[\"a\"],counter[\"l\"]//2,counter[\"o\"]//2,counter[\"n\"])"
      ]
    },
    {
      "cell_type": "code",
      "source": [
        "text=\"balnxdsoonlnoollab\"\n",
        "solution=maxNumberOfBalloons(text)\n",
        "print(solution)"
      ],
      "metadata": {
        "colab": {
          "base_uri": "https://localhost:8080/"
        },
        "id": "HEI9Xjy7_xse",
        "outputId": "851de2a5-7d94-4e41-be21-bbab5dacf940"
      },
      "execution_count": 4,
      "outputs": [
        {
          "output_type": "stream",
          "name": "stdout",
          "text": [
            "2\n"
          ]
        }
      ]
    }
  ]
}