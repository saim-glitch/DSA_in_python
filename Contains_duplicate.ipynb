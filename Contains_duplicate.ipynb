{
  "nbformat": 4,
  "nbformat_minor": 0,
  "metadata": {
    "colab": {
      "provenance": [],
      "authorship_tag": "ABX9TyP1MKvH/4XVEuF5aPvbUD95",
      "include_colab_link": true
    },
    "kernelspec": {
      "name": "python3",
      "display_name": "Python 3"
    },
    "language_info": {
      "name": "python"
    }
  },
  "cells": [
    {
      "cell_type": "markdown",
      "metadata": {
        "id": "view-in-github",
        "colab_type": "text"
      },
      "source": [
        "<a href=\"https://colab.research.google.com/github/saim-glitch/DSA_in_python/blob/main/Contains_duplicate.ipynb\" target=\"_parent\"><img src=\"https://colab.research.google.com/assets/colab-badge.svg\" alt=\"Open In Colab\"/></a>"
      ]
    },
    {
      "cell_type": "code",
      "execution_count": 5,
      "metadata": {
        "colab": {
          "base_uri": "https://localhost:8080/"
        },
        "id": "F-NaupLcNrCK",
        "outputId": "2faee81b-9dbb-44de-d74d-baa3586c8d75"
      },
      "outputs": [
        {
          "output_type": "stream",
          "name": "stdout",
          "text": [
            "False\n"
          ]
        }
      ],
      "source": [
        "def containsDuplicate(nums):\n",
        "    s=set()\n",
        "    for num in nums:\n",
        "        if num in s:\n",
        "             return True\n",
        "        else:\n",
        "            s.add(num)\n",
        "    return False\n",
        "\n",
        "nums=[1,2,3,4,5,6,7]\n",
        "solu=containsDuplicate(nums)\n",
        "print(solu)\n",
        ""
      ]
    }
  ]
}