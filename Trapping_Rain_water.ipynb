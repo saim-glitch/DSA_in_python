{
  "nbformat": 4,
  "nbformat_minor": 0,
  "metadata": {
    "colab": {
      "provenance": [],
      "authorship_tag": "ABX9TyO1ooWUfiruZY6OWK9BUWBp",
      "include_colab_link": true
    },
    "kernelspec": {
      "name": "python3",
      "display_name": "Python 3"
    },
    "language_info": {
      "name": "python"
    }
  },
  "cells": [
    {
      "cell_type": "markdown",
      "metadata": {
        "id": "view-in-github",
        "colab_type": "text"
      },
      "source": [
        "<a href=\"https://colab.research.google.com/github/saim-glitch/DSA_in_python/blob/main/Trapping_Rain_water.ipynb\" target=\"_parent\"><img src=\"https://colab.research.google.com/assets/colab-badge.svg\" alt=\"Open In Colab\"/></a>"
      ]
    },
    {
      "cell_type": "code",
      "execution_count": 2,
      "metadata": {
        "id": "XprmBqcBV_Lm"
      },
      "outputs": [],
      "source": [
        "  def trap(height):\n",
        "        l_wall=r_wall=0\n",
        "        n=len(height)\n",
        "        l_weight=[0] * n\n",
        "        r_weight=[0] * n\n",
        "\n",
        "        for i in range(n):\n",
        "            j=-i-1\n",
        "            l_weight[i]=l_wall\n",
        "            r_weight[j]=r_wall\n",
        "            l_wall=max(l_wall,height[i])\n",
        "            r_wall=max(r_wall,height[j])\n",
        "\n",
        "        sum=0\n",
        "        for i in range(n):\n",
        "            pot=min(l_weight[i],r_weight[i])\n",
        "            sum+=max(0,pot-height[i])\n",
        "        return sum"
      ]
    },
    {
      "cell_type": "code",
      "source": [
        "height = [0,1,0,2,1,0,1,3,2,1,2,1]\n",
        "solution=trap(height)\n",
        "print(solution)"
      ],
      "metadata": {
        "colab": {
          "base_uri": "https://localhost:8080/"
        },
        "id": "4uDmA-TjWPLL",
        "outputId": "12947c1c-01ad-4f21-aa2b-4c2508705cea"
      },
      "execution_count": 4,
      "outputs": [
        {
          "output_type": "stream",
          "name": "stdout",
          "text": [
            "6\n"
          ]
        }
      ]
    }
  ]
}