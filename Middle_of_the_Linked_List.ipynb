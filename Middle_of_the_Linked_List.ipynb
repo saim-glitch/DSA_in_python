{
  "nbformat": 4,
  "nbformat_minor": 0,
  "metadata": {
    "colab": {
      "provenance": [],
      "authorship_tag": "ABX9TyP5UwMfo2aL7zZb14T8Fobb",
      "include_colab_link": true
    },
    "kernelspec": {
      "name": "python3",
      "display_name": "Python 3"
    },
    "language_info": {
      "name": "python"
    }
  },
  "cells": [
    {
      "cell_type": "markdown",
      "metadata": {
        "id": "view-in-github",
        "colab_type": "text"
      },
      "source": [
        "<a href=\"https://colab.research.google.com/github/saim-glitch/DSA_in_python/blob/main/Middle_of_the_Linked_List.ipynb\" target=\"_parent\"><img src=\"https://colab.research.google.com/assets/colab-badge.svg\" alt=\"Open In Colab\"/></a>"
      ]
    },
    {
      "cell_type": "code",
      "execution_count": 2,
      "metadata": {
        "id": "Oy1-2qk8AP61"
      },
      "outputs": [],
      "source": [
        "def middleNode(head):\n",
        "        fast=slow=head\n",
        "        while fast and fast.next:\n",
        "            fast=fast.next.next\n",
        "            slow=slow.next\n",
        "        return slow"
      ]
    }
  ]
}